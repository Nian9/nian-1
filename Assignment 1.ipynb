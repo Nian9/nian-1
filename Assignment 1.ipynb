{
 "cells": [
  {
   "cell_type": "code",
   "execution_count": 2,
   "id": "e788c855",
   "metadata": {},
   "outputs": [],
   "source": [
    "a = \"First Assignment\""
   ]
  },
  {
   "cell_type": "code",
   "execution_count": null,
   "id": "55613bdd",
   "metadata": {},
   "outputs": [],
   "source": [
    "Question 1)  * is an expression, \"hello\" is a value, -87.5 is a value, - is an expression, / is an expression, \n",
    "+ is an expression, 6 is a value.\n",
    "\n",
    "Question 2) String is a group of several characters while variable is like a holder. That means, it will reserve a place inside of a system to store data and to use when it needs.\n",
    "\n",
    "Question 3) Three different data types - a) String b) Numeric c) Boolean\n",
    "\n",
    "a) String - This types of data will always take a group of characters. Like, when we write sentence in english, we use different alphabets to make one word or one sentence. If we write \"Ninety Nine\", then it will be considered as a string. If we write \"99\", then it will be called as a value or an integer. \n",
    "b) Numeric - This data type will include numerical things. Simply, it will be able to hold numbers, like integer, floating, or complex. For example, if I will write a = \"Thirty Five\" and if i want to use this data to perform concatenation with an integer, then I will get an error. Cause, string can not do concatenation with a numeric value. I need a = 35, then if i write a+5, I will get the answer interms of numeric data. If i write a = \"xyz\" then a+'abc' will be the outpur as 'xyzabc'. \n",
    "c) Boolean - It's easy to understand this type of data. Its nothing but a permutation or combination of the statements True/False. If I need to check value of a particluar item, then i can use bool. If the particluar item has some value like string, integer then it will return me True as output. Otherwise False. \n",
    "\n",
    "Question 4) - Expression in python is a type of combination. That means, it will combine different terms and will give an answer. It consists of Operands (a,b,xyz, 5,99.9), Operators(+, -, *, /, <, >, <=, >= etc.), Constants, Variables. Expression will produce a value by performing the operations given in between operands and operators. The function of all expression is to get evaluated according to the instruction. Simply, if I need to print an output from an expression, python interpreter needs to evaluate the opreators, operands, constants from the expression. Based on this evaluation, I will get the result. \n",
    "\n",
    "Question 5) - The main difference between an expression and a statement is, expressions can be evaluated and can produce a value. Based on the operands, operators etc, an expression will always return a value as output. On the otherhand, we can not evaluate a statement. Statement will always give instructions to exceute an operation. Simply, we can say statements are like predictions (If he will go, For this value, While it was raining) while expressions are like combination of actions and returns with an output. \n",
    "\n",
    "Question 6) - bacon+1 = 23. So, the varibale bacon will contain 23 \n",
    "\n",
    "Question 7) - 'spam'+'spamspam' = spamspamspam (Its a concatination between two strings). 'spam'*3 = spamspamspam('*' It will repeat that string specific number of times based on the data).\n",
    "\n",
    "Question 8) - Variable in another words is a recogniation for different data. If a variable name will start with a number, then python compiler will not be able to understand if its a numeric constant or a variable. It order to store a data, compiler need to check the data type. If compiler will be confused with the variable name, then it can not execute a code and will give an error. To execute a code successfully, a compiler needs to understand the variable name, data type. Based on this criteria, it will be able to give an output. \n",
    "\n",
    "Question 9) - The three functions that can be used to get the integer, floating point number or the string version of a value are - int(), float(), str().\n",
    "\n",
    "Question 10) - 'I have eaten'+ 99 + 'burritos' = TypeError. Because, here \"I have eaten\" & \"burritos\" both are string type data and 99 is an integer type data. We know, string can only concatenate with another string, not with an integer. In order to solve this issue, i need to convert the integer to string, and then have to perfrom the operation. So I will write- \"I have eaten\"+ str(99) + \"burritos\". then i will be able to get an output as \"I have eaten99burritos\". "
   ]
  }
 ],
 "metadata": {
  "kernelspec": {
   "display_name": "Python 3 (ipykernel)",
   "language": "python",
   "name": "python3"
  },
  "language_info": {
   "codemirror_mode": {
    "name": "ipython",
    "version": 3
   },
   "file_extension": ".py",
   "mimetype": "text/x-python",
   "name": "python",
   "nbconvert_exporter": "python",
   "pygments_lexer": "ipython3",
   "version": "3.9.7"
  }
 },
 "nbformat": 4,
 "nbformat_minor": 5
}
